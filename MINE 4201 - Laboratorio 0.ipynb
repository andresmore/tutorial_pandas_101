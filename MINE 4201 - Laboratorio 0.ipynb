{
 "cells": [
  {
   "attachments": {
    "dataframe.png": {
     "image/png": "[encoded data removed]"
    }
   },
   "cell_type": "markdown",
   "metadata": {},
   "source": [
    "# MINE 4201 - Laboratorio 0\n",
    "\n",
    "Este notebook esta basado en el material de introducción a pandas disponible en \n",
    "\n",
    "https://pandas.pydata.org/docs/getting_started/\n",
    "\n",
    "El laboratorio 0 esta diseñado para familiarizar al estudiante con la ejecución de cuadernos de jupyter notebook y pandas, una librería de python para la manipulación y análisis de datos.\n",
    "\n",
    "La librería de pandas maneja datos tabulares (filas y columnas) usando como abstracción un [DataFrame](https://pandas.pydata.org/pandas-docs/stable/reference/api/pandas.DataFrame.html) que tiene filas y columnas.\n",
    "![imgs/dataframe.png](attachment:dataframe.png)\n",
    "\n",
    "Ejecute una a una las celdas, lo puede hacer con el botón run, o al estar parado en una celda puede ejecutarla presionando shift+enter\n",
    "\n",
    "\n"
   ]
  },
  {
   "cell_type": "code",
   "execution_count": null,
   "metadata": {},
   "outputs": [],
   "source": [
    "import pandas as pd\n",
    "import csv\n",
    "import numpy as np\n",
    "%matplotlib inline"
   ]
  },
  {
   "cell_type": "markdown",
   "metadata": {},
   "source": [
    "## Carga de datos a DataFrame y exploración inicial de datos"
   ]
  },
  {
   "cell_type": "markdown",
   "metadata": {},
   "source": [
    "Para el ejercicio de familiarización con pandas vamos a utilizar el dataset de Book-Crossing, este dataset fue recolectado por Cai-Nicolas Ziegler en Agosto a Septiembre de 2004. Para más información sobre la plataforma puede acceder a la comunidad de [Book-Crossing](https://www.bookcrossing.com/?). \n",
    "Los datos contienen información acerca de 278,858 usuarios, con 1,149,780 ratings (opiniones) sobre 271,379 libros.\n",
    "\n",
    "Los archivos pertinentes están descargados en la carpeta data en formato csv. Puede encontrar más información acerca del dataset en este [sitio](http://www2.informatik.uni-freiburg.de/~cziegler/BX/)\n",
    "\n",
    "En las siguientes celdas, se cargan los archivos de ratings, libros e usuarios en un DataFrame\n",
    "\n"
   ]
  },
  {
   "cell_type": "code",
   "execution_count": null,
   "metadata": {},
   "outputs": [],
   "source": [
    "df_ratings= pd.read_csv('data/BX-Book-Ratings.csv',sep=';',quotechar='\"', encoding = 'ISO-8859-1')"
   ]
  },
  {
   "cell_type": "code",
   "execution_count": null,
   "metadata": {},
   "outputs": [],
   "source": [
    "df_books= pd.read_csv('data/BX-Books.csv',sep=';',quotechar='\"', escapechar='\\\\', encoding = 'ISO-8859-1')"
   ]
  },
  {
   "cell_type": "code",
   "execution_count": null,
   "metadata": {},
   "outputs": [],
   "source": [
    "df_users = pd.read_csv('data/BX-Users.csv',sep=';',quotechar='\"', escapechar='\\\\', encoding = 'ISO-8859-1')"
   ]
  },
  {
   "cell_type": "markdown",
   "metadata": {},
   "source": [
    "Un DataFrame de pandas es una estructura 2-dimensional de filas y columnas. Se puede imprimir por la salida el contenido de un dataframe simplemente con una instrucción que llame al dataframe. También se pueden inspeccionar las primeras o últimas n filas del DataFrame utilizando el método head() o tail(), o realizar un muestreo de n líneas con el método sample()"
   ]
  },
  {
   "cell_type": "code",
   "execution_count": null,
   "metadata": {},
   "outputs": [],
   "source": [
    "type(df_users)"
   ]
  },
  {
   "cell_type": "code",
   "execution_count": null,
   "metadata": {},
   "outputs": [],
   "source": [
    "df_users"
   ]
  },
  {
   "cell_type": "code",
   "execution_count": null,
   "metadata": {},
   "outputs": [],
   "source": [
    "#Tupla python que contiene las dimensiones del dataframe\n",
    "df_users.shape"
   ]
  },
  {
   "cell_type": "code",
   "execution_count": null,
   "metadata": {},
   "outputs": [],
   "source": [
    "df_users.head()"
   ]
  },
  {
   "cell_type": "code",
   "execution_count": null,
   "metadata": {},
   "outputs": [],
   "source": [
    "df_users.tail()"
   ]
  },
  {
   "cell_type": "code",
   "execution_count": null,
   "metadata": {},
   "outputs": [],
   "source": [
    "df_users.sample(8)"
   ]
  },
  {
   "cell_type": "code",
   "execution_count": null,
   "metadata": {},
   "outputs": [],
   "source": [
    "#TODO: \n",
    "#Utilice las siguientes líneas para revisar las primeras 8 líneas, las últimas 8 líneas y un muestreo del dataframe de libros (df_books) "
   ]
  },
  {
   "cell_type": "code",
   "execution_count": null,
   "metadata": {},
   "outputs": [],
   "source": [
    "df_books.?"
   ]
  },
  {
   "cell_type": "code",
   "execution_count": null,
   "metadata": {},
   "outputs": [],
   "source": [
    "df_books.?"
   ]
  },
  {
   "cell_type": "code",
   "execution_count": null,
   "metadata": {},
   "outputs": [],
   "source": [
    "df_books.?"
   ]
  },
  {
   "cell_type": "markdown",
   "metadata": {},
   "source": [
    "## Atributos de un DataFrame"
   ]
  },
  {
   "cell_type": "markdown",
   "metadata": {},
   "source": [
    "El índice de un dataframe hace referencia a la primera columna(en negrilla), es un identificador de cada fila. En este caso pandas generó una secuencia de enteros desde 0 al número de filas al leer el archivo, pero este índice puede ser sustituido por cualquier otra columna del DataFrame"
   ]
  },
  {
   "cell_type": "code",
   "execution_count": null,
   "metadata": {},
   "outputs": [],
   "source": [
    "df_users.index"
   ]
  },
  {
   "cell_type": "markdown",
   "metadata": {},
   "source": [
    "Las columnas de un DataFrame también tienen un identificador"
   ]
  },
  {
   "cell_type": "code",
   "execution_count": null,
   "metadata": {},
   "outputs": [],
   "source": [
    "df_users.columns"
   ]
  },
  {
   "cell_type": "markdown",
   "metadata": {},
   "source": [
    "Por último, cada columna tiene un tipo de dato inferido por la libreria al momento de realizar la carga"
   ]
  },
  {
   "cell_type": "code",
   "execution_count": null,
   "metadata": {},
   "outputs": [],
   "source": [
    "df_users.dtypes"
   ]
  },
  {
   "cell_type": "markdown",
   "metadata": {},
   "source": [
    "## Selección y manejo de índices\n",
    "\n",
    "Es posible seleccionar información de los DataFrame a partir de los índices de filas y columnas (primera fila y primera columna cuando se imprime un dataframe). Estos índices permiten acceder a un subconjunto del DataFrame principal y cambiar la información almacenada en el DataFrame. "
   ]
  },
  {
   "cell_type": "markdown",
   "metadata": {},
   "source": [
    "### Selección de columnas\n",
    "\n",
    "Se puede seleccionar una columna mediante el uso de los corchetes cuadrados. En las siguientes celdas accedemos a la columna User-ID, o a un conjunto de columnas. Acceder a una sola columna es un objeto de tipo [Series](https://pandas.pydata.org/pandas-docs/stable/reference/api/pandas.Series.html), acceder a múltiples columnas resulta en un objeto tipo DataFrame\n",
    " "
   ]
  },
  {
   "cell_type": "code",
   "execution_count": null,
   "metadata": {},
   "outputs": [],
   "source": [
    "df_users['User-ID']"
   ]
  },
  {
   "cell_type": "code",
   "execution_count": null,
   "metadata": {},
   "outputs": [],
   "source": [
    "#Cuando el nombre de la columna es un nombre de atributo válido de python, puede ser accedida como atributo\n",
    "df_users.Age"
   ]
  },
  {
   "cell_type": "code",
   "execution_count": null,
   "metadata": {},
   "outputs": [],
   "source": [
    "df_users['User-ID'].shape"
   ]
  },
  {
   "cell_type": "code",
   "execution_count": null,
   "metadata": {},
   "outputs": [],
   "source": [
    "type(df_users['User-ID'])"
   ]
  },
  {
   "cell_type": "code",
   "execution_count": null,
   "metadata": {},
   "outputs": [],
   "source": [
    "type(df_users.Age)"
   ]
  },
  {
   "cell_type": "code",
   "execution_count": null,
   "metadata": {},
   "outputs": [],
   "source": [
    "df_users[['User-ID', 'Location']]"
   ]
  },
  {
   "cell_type": "code",
   "execution_count": null,
   "metadata": {},
   "outputs": [],
   "source": [
    "df_users[['User-ID', 'Location']].shape"
   ]
  },
  {
   "cell_type": "code",
   "execution_count": null,
   "metadata": {},
   "outputs": [],
   "source": [
    "type(df_users[['User-ID', 'Location']])"
   ]
  },
  {
   "cell_type": "markdown",
   "metadata": {},
   "source": [
    "### Agregaciones por columnas\n",
    "A una serie o a un dataframe se le pueden calcular funciones de agregación\n",
    "Por ejemplo el promedio de edad de los usuarios (ignora NaN)"
   ]
  },
  {
   "cell_type": "code",
   "execution_count": null,
   "metadata": {},
   "outputs": [],
   "source": [
    "df_users['Age'].mean()"
   ]
  },
  {
   "cell_type": "code",
   "execution_count": null,
   "metadata": {},
   "outputs": [],
   "source": [
    "df_users['Age'].max()"
   ]
  },
  {
   "cell_type": "code",
   "execution_count": null,
   "metadata": {},
   "outputs": [],
   "source": [
    "# Se pueden llamar varias funciones al tiempo\n",
    "df_users['Age'].agg(['mean','sum'])"
   ]
  },
  {
   "cell_type": "code",
   "execution_count": null,
   "metadata": {},
   "outputs": [],
   "source": [
    "df_ratings.max(axis=0)"
   ]
  },
  {
   "cell_type": "markdown",
   "metadata": {},
   "source": [
    "### Filtrar filas y columnas por condiciones\n",
    "Se utiliza también la sintaxis de los corchetes cuadrados, \n",
    "Quiero acceder a las filas que tienen usuarios mayores de 60 años y guardarlo en el DataFrame df_users_senior"
   ]
  },
  {
   "cell_type": "code",
   "execution_count": null,
   "metadata": {},
   "outputs": [],
   "source": [
    "df_users_senior=df_users[df_users['Age']>60]"
   ]
  },
  {
   "cell_type": "code",
   "execution_count": null,
   "metadata": {},
   "outputs": [],
   "source": [
    "df_users_senior"
   ]
  },
  {
   "cell_type": "markdown",
   "metadata": {},
   "source": [
    "La condición `df_users['Age']>60` genera un vector binario, que es utilizado como una máscara binaria para acceder solamente las posiciones del DataFrame que cumplen con la condición"
   ]
  },
  {
   "cell_type": "code",
   "execution_count": null,
   "metadata": {},
   "outputs": [],
   "source": [
    "df_users['Age']>60"
   ]
  },
  {
   "cell_type": "code",
   "execution_count": null,
   "metadata": {},
   "outputs": [],
   "source": [
    "type(df_users['Age']>60)"
   ]
  },
  {
   "cell_type": "code",
   "execution_count": null,
   "metadata": {},
   "outputs": [],
   "source": [
    "#Negación de la condición\n",
    "~(df_users['Age']>60)"
   ]
  },
  {
   "cell_type": "code",
   "execution_count": null,
   "metadata": {},
   "outputs": [],
   "source": [
    "#Acceso a las filas con máscara inversa a la condición\n",
    "df_users[~(df_users['Age']>60)]"
   ]
  },
  {
   "cell_type": "code",
   "execution_count": null,
   "metadata": {},
   "outputs": [],
   "source": [
    "# Comparación contra nan\n",
    "df_users[df_users['Age'].isna()]"
   ]
  },
  {
   "cell_type": "code",
   "execution_count": null,
   "metadata": {},
   "outputs": [],
   "source": [
    "#And de condiciones, menores a 60 y mayores de 18\n",
    "df_users[(df_users['Age']<60)& (df_users['Age']>18)]"
   ]
  },
  {
   "cell_type": "code",
   "execution_count": null,
   "metadata": {},
   "outputs": [],
   "source": [
    "#TODO: \n",
    "#Utilice las siguiente líneas para guardar en un nuevo DataFrame llamado df_books_old los libros que fueron publicados antes de 1900 y se conoce su año de publicación (diferente de 0)"
   ]
  },
  {
   "cell_type": "code",
   "execution_count": null,
   "metadata": {},
   "outputs": [],
   "source": [
    "df_books_old = ?"
   ]
  },
  {
   "cell_type": "code",
   "execution_count": null,
   "metadata": {},
   "outputs": [],
   "source": [
    "df_books_old"
   ]
  },
  {
   "cell_type": "code",
   "execution_count": null,
   "metadata": {},
   "outputs": [],
   "source": [
    "assert(df_books_old.shape[0]==4)"
   ]
  },
  {
   "cell_type": "markdown",
   "metadata": {},
   "source": [
    "### Uso de indexador .loc y .iloc\n",
    "\n",
    "- El indexador .loc[index_fila, index_columna] permite acceder a filas o a columnas bien sea por el valor del índice o por medio de arreglos binarios. \n",
    "- El indexador .iloc[pos_fila, pos_columna] permite acceder a filas o columnas por medio de referencias a posición dentro del DataFrame o arreglo"
   ]
  },
  {
   "cell_type": "code",
   "execution_count": null,
   "metadata": {},
   "outputs": [],
   "source": [
    "# Ejemplo solamente usando el valor del índice de filas, fila con indice con valor 3\n",
    "df_users.loc[3]"
   ]
  },
  {
   "cell_type": "code",
   "execution_count": null,
   "metadata": {},
   "outputs": [],
   "source": [
    "# Ejemplo usando indexador de fila y columna, fila con índice valor 3 y columna Age\n",
    "df_users.loc[3,'Age']"
   ]
  },
  {
   "cell_type": "code",
   "execution_count": null,
   "metadata": {},
   "outputs": [],
   "source": [
    "# Ejemplo usando indexador de fila y columna con arreglos binarios (máscara)\n",
    "# Usuarios con edad superior al promedio, todas las columnas\n",
    "df_users.loc[df_users['Age']>df_users['Age'].mean(),:]"
   ]
  },
  {
   "cell_type": "code",
   "execution_count": null,
   "metadata": {},
   "outputs": [],
   "source": [
    "# Uso de iloc, dos primeras columnas del dataframe, la sintaxis 0:2 es la forma de realizar indexación de listas en python\n",
    "df_users.iloc[:,0:2]"
   ]
  },
  {
   "cell_type": "code",
   "execution_count": null,
   "metadata": {},
   "outputs": [],
   "source": [
    "#TODO: \n",
    "#Utilice las siguiente líneas para guardar en un nuevo DataFrame llamado df_books_latest los libros que fueron publicados durante los últimos 5 años(tomando como base el año del libro con año mayor)"
   ]
  },
  {
   "cell_type": "code",
   "execution_count": null,
   "metadata": {},
   "outputs": [],
   "source": [
    "df_books_latest=?"
   ]
  },
  {
   "cell_type": "code",
   "execution_count": null,
   "metadata": {},
   "outputs": [],
   "source": [
    "df_books_latest\n"
   ]
  },
  {
   "cell_type": "code",
   "execution_count": null,
   "metadata": {},
   "outputs": [],
   "source": [
    "assert(df_books_latest.shape[0]==2)"
   ]
  },
  {
   "cell_type": "markdown",
   "metadata": {},
   "source": [
    "# Creacion de columnas derivadas\n",
    "A un dataframe se le pueden crear columnas a partir de otras columnas"
   ]
  },
  {
   "cell_type": "code",
   "execution_count": null,
   "metadata": {},
   "outputs": [],
   "source": [
    "# Creacion de columna a partir de otra serie\n",
    "df_users['Adult']=df_users['Age']>=18"
   ]
  },
  {
   "cell_type": "code",
   "execution_count": null,
   "metadata": {},
   "outputs": [],
   "source": [
    "df_users"
   ]
  },
  {
   "cell_type": "code",
   "execution_count": null,
   "metadata": {},
   "outputs": [],
   "source": [
    "# Creación de columna con broadcasting, un unico valor se replica , ver https://numpy.org/doc/stable/user/basics.broadcasting.html\n",
    "df_users['constante']=5"
   ]
  },
  {
   "cell_type": "code",
   "execution_count": null,
   "metadata": {},
   "outputs": [],
   "source": [
    "df_users"
   ]
  },
  {
   "cell_type": "code",
   "execution_count": null,
   "metadata": {},
   "outputs": [],
   "source": [
    "df_users['Age-squared']=df_users['Age']**2"
   ]
  },
  {
   "cell_type": "code",
   "execution_count": null,
   "metadata": {},
   "outputs": [],
   "source": [
    "df_users"
   ]
  },
  {
   "cell_type": "markdown",
   "metadata": {},
   "source": [
    "## Función apply \n",
    "La función apply permite aplicar la misma función de agregación a todas las filas (o columnas) de un dataframe, resulta util para crear nuevas columnas cuando se aplica a un DataFrame o a una Series\n",
    "\n",
    "La función [apply](https://pandas.pydata.org/pandas-docs/stable/reference/api/pandas.DataFrame.apply.html), cuando se realiza sobre un DataFrame recibe el parámetro axis, con valor por defecto 0. Este parámetro indica en qué dirección se aplica la agregación. Cuando el eje (axis) es 0 se aplica la función sobre las filas, por lo que se obtendrá una Serie de tamaño del número de columnas del DataFrame. Cuando el eje es 1 se aplica la función sobre las columnas, por lo que se obtendrá como resultado una Serie del tamaño del número de filas.\n",
    "\n",
    "![titulo](imgs/pandas_axis.png)"
   ]
  },
  {
   "cell_type": "code",
   "execution_count": null,
   "metadata": {},
   "outputs": [],
   "source": [
    "# Se aplica función max por columna  sobre selección de DataFrame, apply con axis=0\n",
    "df_users[['User-ID','constante']].apply(max)"
   ]
  },
  {
   "cell_type": "code",
   "execution_count": null,
   "metadata": {},
   "outputs": [],
   "source": [
    "# Se aplica función max por fila sobre selección de DataFrame, apply con axis=1\n",
    "df_users[['User-ID','constante']].apply(max, axis=1)"
   ]
  },
  {
   "cell_type": "markdown",
   "metadata": {},
   "source": [
    "## Funciones vectorizadas str\n",
    "\n",
    "A las series que son de tipo String se les puede aplicar directamente funciones vectorizadas de forma más eficiente sin necesidad de llamar un apply. \n",
    "\n",
    "En [este](https://pandas.pydata.org/pandas-docs/stable/user_guide/text.html#string-methods) enlace puede revisar las funiones que se le pueden aplicar a una serie que es cadena de texto. Para llamar estas funciones es necesario llamar la propiedad str sobre la serie"
   ]
  },
  {
   "cell_type": "code",
   "execution_count": null,
   "metadata": {},
   "outputs": [],
   "source": [
    "# Ejemplo: Extraer el pais de los usuarios\n",
    "df_users['pais']=df_users['Location'].str.split(\",\").str.get(2).str.strip()"
   ]
  },
  {
   "cell_type": "code",
   "execution_count": null,
   "metadata": {},
   "outputs": [],
   "source": [
    "df_users.head(9)"
   ]
  },
  {
   "cell_type": "markdown",
   "metadata": {},
   "source": [
    "## Funciones definidas por el usuario en apply\n",
    "\n",
    "Dentro de un apply, es posible definir funciones de agregación propias del usuario."
   ]
  },
  {
   "cell_type": "code",
   "execution_count": null,
   "metadata": {},
   "outputs": [],
   "source": [
    "def esta_norteamerica(row):\n",
    "    location=row['Location'].split(',')[-1].strip()\n",
    "    return (location in ['usa','mexico','canada'])"
   ]
  },
  {
   "cell_type": "code",
   "execution_count": null,
   "metadata": {},
   "outputs": [],
   "source": [
    "df_users['esta_en_norteamerica']=df_users.apply(esta_norteamerica, axis=1)"
   ]
  },
  {
   "cell_type": "code",
   "execution_count": null,
   "metadata": {},
   "outputs": [],
   "source": [
    "df_users"
   ]
  },
  {
   "cell_type": "markdown",
   "metadata": {},
   "source": [
    "## Funciónes lambda en python\n",
    "\n",
    "Las funciones lambda son funciones que son anónimas, es decir, no hay que declararles un nombre.\n",
    "\n",
    "Las funciones lambda resultan de gran utilidad para trabajar con DataFrames dentro la función apply, nos permiten definir rápidamente funciones de agregación de filas arbitrarias para transformar nuestros datos. \n",
    "\n",
    "Dentro de las funciones lambda no se puede imprimir, ni se pueden generar excepciones\n",
    "\n",
    "A continuación se muestra un ejemplo de una función lambda simple, que suma 1 al parámetro suministrado"
   ]
  },
  {
   "cell_type": "code",
   "execution_count": null,
   "metadata": {},
   "outputs": [],
   "source": [
    "funlambda_ejemplo = lambda x: x +1 "
   ]
  },
  {
   "cell_type": "code",
   "execution_count": null,
   "metadata": {},
   "outputs": [],
   "source": [
    "type(funlambda_ejemplo)"
   ]
  },
  {
   "cell_type": "code",
   "execution_count": null,
   "metadata": {},
   "outputs": [],
   "source": [
    "funlambda_ejemplo(40)"
   ]
  },
  {
   "cell_type": "markdown",
   "metadata": {},
   "source": [
    "Al usar una función lambda sobre una función de apply, puedo combinar las columnas para obtener por ejemplo, columnas derivadas que dependen del valor de otras"
   ]
  },
  {
   "cell_type": "code",
   "execution_count": null,
   "metadata": {},
   "outputs": [],
   "source": [
    "df_users[df_users.pais.isna()]"
   ]
  },
  {
   "cell_type": "code",
   "execution_count": null,
   "metadata": {},
   "outputs": [],
   "source": [
    "# Ejemplo: Columna derivada\n",
    "# row se vuelve un parámetro por donde se va a recibir cada una de las filas, sumemos 5 años a la edad y concatenemos el pais\n",
    "df_users.apply(lambda row:  str(row['Age']+5)+\" \"+str(row['pais']) , axis=1)"
   ]
  },
  {
   "cell_type": "markdown",
   "metadata": {},
   "source": [
    "Este es un ejemplo de uso de una función lambda dentro de un apply, pero no siempre es la mejor opción\n",
    "\n",
    "En lo posible debe hacer uso de las funciones que ya vienen implementadas dentro de la libreria pandas o numpy, ya que estas estan implementadas en cython y corren sobre código compilado. \n",
    "\n",
    "Nuestra función lambda se va a demorar en correr mucho más dado que esta siendo interpretada por python fila a fila.\n",
    "\n",
    "La instruccion de notebook %timeit nos permite repetir una instruccion varias veces para revisar cuánto se demora en promedio. La instrucción del notebook %time ejecuta la operación una sola vez y mide cuánto se demoró.\n",
    "\n",
    "Compare los tiempos que toma aplicar una función vectorizada implementada nativamente en cython vs la función lambda."
   ]
  },
  {
   "cell_type": "code",
   "execution_count": null,
   "metadata": {},
   "outputs": [],
   "source": [
    "%timeit -r 5 -n 10 df_users['Age']+5"
   ]
  },
  {
   "cell_type": "code",
   "execution_count": null,
   "metadata": {},
   "outputs": [],
   "source": [
    "%time df_users.apply(lambda row:  row['Age']+5 , axis=1)"
   ]
  },
  {
   "cell_type": "markdown",
   "metadata": {},
   "source": [
    "# Indexación .at\n",
    "La indexación at es similar a la indexación loc e iloc at sirve para cambiar los datos del dataframe"
   ]
  },
  {
   "cell_type": "code",
   "execution_count": null,
   "metadata": {},
   "outputs": [],
   "source": [
    "df_users"
   ]
  },
  {
   "cell_type": "code",
   "execution_count": null,
   "metadata": {},
   "outputs": [],
   "source": [
    "#Cambio valores de nan a string vacio\n",
    "df_users.at[df_users.pais.isna(),'pais']=''"
   ]
  },
  {
   "cell_type": "code",
   "execution_count": null,
   "metadata": {},
   "outputs": [],
   "source": [
    "df_users.loc[df_users.pais.isna()]"
   ]
  },
  {
   "cell_type": "code",
   "execution_count": null,
   "metadata": {},
   "outputs": [],
   "source": [
    "df_users.loc[df_users.pais=='']"
   ]
  },
  {
   "cell_type": "markdown",
   "metadata": {},
   "source": [
    "Se desea crear en el DataFrame df_books una nueva columna llamada valid_ISBN para indicar si los códigos ISBN son válidos. La validación depende del número de dígitos que tiene el ISBN (10 o 13 dígitos). Puede utilizar las siguientes funciones copiadas de la libreria isbnlib."
   ]
  },
  {
   "cell_type": "code",
   "execution_count": null,
   "metadata": {},
   "outputs": [],
   "source": [
    "# This program is free software: you can redistribute it and/or modify\n",
    "# it under the terms of the GNU General Public License as published by\n",
    "# the Free Software Foundation, either version 3 of the License, or\n",
    "# (at your option) any later version.\n",
    "\n",
    "# This program is distributed in the hope that it will be useful,\n",
    "# but WITHOUT ANY WARRANTY; without even the implied warranty of\n",
    "# MERCHANTABILITY or FITNESS FOR A PARTICULAR PURPOSE.  See the\n",
    "# GNU General Public License for more details.\n",
    "\n",
    "# You should have received a copy of the GNU General Public License\n",
    "# along with this program.  If not, see <http://www.gnu.org/licenses/>.\n",
    "\n",
    "# pylint: disable=broad-except\n",
    "def check_digit10(firstninedigits):\n",
    "    \"\"\"Check sum ISBN-10.\"\"\"\n",
    "    # minimum checks\n",
    "    if len(firstninedigits) != 9:\n",
    "        return ''\n",
    "    try:\n",
    "        int(firstninedigits)\n",
    "    except Exception:  # pragma: no cover\n",
    "        return ''\n",
    "    # checksum\n",
    "    val = sum(\n",
    "        (i + 2) * int(x) for i, x in enumerate(reversed(firstninedigits)))\n",
    "    remainder = int(val % 11)\n",
    "    if remainder == 0:\n",
    "        tenthdigit = 0\n",
    "    else:\n",
    "        tenthdigit = 11 - remainder\n",
    "    if tenthdigit == 10:\n",
    "        tenthdigit = 'X'\n",
    "    return str(tenthdigit)\n",
    "\n",
    "\n",
    "# pylint: disable=broad-except\n",
    "def check_digit13(firsttwelvedigits):\n",
    "    \"\"\"Check sum ISBN-13.\"\"\"\n",
    "    # minimum checks\n",
    "    if len(firsttwelvedigits) != 12:\n",
    "        return ''\n",
    "    try:\n",
    "        int(firsttwelvedigits)\n",
    "    except Exception:  # pragma: no cover\n",
    "        return ''\n",
    "    # checksum\n",
    "    val = sum(\n",
    "        (i % 2 * 2 + 1) * int(x) for i, x in enumerate(firsttwelvedigits))\n",
    "    thirteenthdigit = 10 - int(val % 10)\n",
    "    if thirteenthdigit == 10:\n",
    "        thirteenthdigit = '0'\n",
    "    return str(thirteenthdigit)\n"
   ]
  },
  {
   "cell_type": "code",
   "execution_count": null,
   "metadata": {},
   "outputs": [],
   "source": [
    "#TODO: Calcule columna valid_ISBN\n",
    "df_books['valid_ISBN']=?"
   ]
  },
  {
   "cell_type": "markdown",
   "metadata": {},
   "source": [
    "# Sort, groupby\n",
    "\n",
    "En esta sección se presenta el uso de funciones para crear nuevos dataframes a partir de la transformación de filas o columnas de un dataframe original\n"
   ]
  },
  {
   "cell_type": "code",
   "execution_count": null,
   "metadata": {},
   "outputs": [],
   "source": [
    "#Ordenar dataframe por edad, de forma creciente\n",
    "df_users.sort_values('Age')"
   ]
  },
  {
   "cell_type": "code",
   "execution_count": null,
   "metadata": {},
   "outputs": [],
   "source": [
    "#Ordenar dataframe por edad, de forma decreciente\n",
    "df_users.sort_values('Age', ascending=False)"
   ]
  },
  {
   "cell_type": "code",
   "execution_count": null,
   "metadata": {},
   "outputs": [],
   "source": [
    "#Top 5 por edad, de forma creciente\n",
    "df_users.nsmallest(5,'Age')"
   ]
  },
  {
   "cell_type": "code",
   "execution_count": null,
   "metadata": {},
   "outputs": [],
   "source": [
    "#Top 5 por edad, de forma decreciente\n",
    "df_users.nlargest(5,'Age')"
   ]
  },
  {
   "cell_type": "markdown",
   "metadata": {},
   "source": [
    "Una operación groupby aplica una selección de un dataframe, a cada grupo de valores les aplica una operación de agregación y concatena los resultados."
   ]
  },
  {
   "cell_type": "code",
   "execution_count": null,
   "metadata": {},
   "outputs": [],
   "source": [
    "#Edad promedio de los usuarios por pais, el resultado es una Serie cuyo indice es el nombre del pais\n",
    "df_users.groupby('pais')['Age'].mean()"
   ]
  },
  {
   "cell_type": "code",
   "execution_count": null,
   "metadata": {},
   "outputs": [],
   "source": [
    "#Puede resultar conveniente manejar una serie como DataFrame, para eso existe el método to_frame\n",
    "df_users.groupby('pais')['Age'].mean().to_frame()"
   ]
  },
  {
   "cell_type": "code",
   "execution_count": null,
   "metadata": {},
   "outputs": [],
   "source": [
    "#Edad promedio, desviación estandar del promedio y número de personas por paism ordenado por conteo de usuarios por pais\n",
    "df_users.groupby('pais')['Age'].agg(['mean','std','count']).sort_values('count', ascending=False)"
   ]
  },
  {
   "cell_type": "code",
   "execution_count": null,
   "metadata": {},
   "outputs": [],
   "source": [
    "#TODO: Mediante un groupby obtenga la serie y el conteo de libros del top 5 de más autores que más libros tienen en el dataset (el nombre de los autores es el indice de la serie) \n",
    "series_top_autores=df_books.?"
   ]
  },
  {
   "cell_type": "code",
   "execution_count": null,
   "metadata": {},
   "outputs": [],
   "source": [
    "assert(all([i in set(['Agatha Christie', 'William Shakespeare', 'Stephen King',\n",
    "       'Ann M. Martin', 'Carolyn Keene']) for i in series_top_autores.index]))"
   ]
  },
  {
   "cell_type": "markdown",
   "metadata": {},
   "source": [
    "# Merge y join\n",
    "\n",
    "Para realizar las combinación de dos dataframes, se utilizan los métodos merge y join\n",
    "* Join se usa para unir por  el índice del dataframe\n",
    "* Merge se usa para unir por el valor de una columna del dataframe"
   ]
  },
  {
   "cell_type": "code",
   "execution_count": null,
   "metadata": {},
   "outputs": [],
   "source": [
    "#La tabla de ratings tiene las opiniones que los usuarios han manifestado, realicemos un análisis del rating promedio por país"
   ]
  },
  {
   "cell_type": "code",
   "execution_count": null,
   "metadata": {},
   "outputs": [],
   "source": [
    "df_ratings.head(10)"
   ]
  },
  {
   "cell_type": "code",
   "execution_count": null,
   "metadata": {},
   "outputs": [],
   "source": [
    "# Documentación merge\n",
    "help(pd.DataFrame.merge)"
   ]
  },
  {
   "cell_type": "code",
   "execution_count": null,
   "metadata": {},
   "outputs": [],
   "source": [
    "df_ratings_pais=df_ratings.merge(df_users[['User-ID','pais']], on='User-ID', how='inner')"
   ]
  },
  {
   "cell_type": "code",
   "execution_count": null,
   "metadata": {},
   "outputs": [],
   "source": [
    "df_ratings_pais"
   ]
  },
  {
   "cell_type": "code",
   "execution_count": null,
   "metadata": {},
   "outputs": [],
   "source": [
    "#TODO: Calcule el promedio de ratings por pais y ordenelo de mayor a menor. Solamente tenga en cuenta los paises que tienen al menos 80 ratings"
   ]
  },
  {
   "cell_type": "code",
   "execution_count": null,
   "metadata": {},
   "outputs": [],
   "source": []
  }
 ],
 "metadata": {
  "kernelspec": {
   "display_name": "Python 3",
   "language": "python",
   "name": "python3"
  },
  "language_info": {
   "codemirror_mode": {
    "name": "ipython",
    "version": 3
   },
   "file_extension": ".py",
   "mimetype": "text/x-python",
   "name": "python",
   "nbconvert_exporter": "python",
   "pygments_lexer": "ipython3",
   "version": "3.7.6"
  }
 },
 "nbformat": 4,
 "nbformat_minor": 4
}
